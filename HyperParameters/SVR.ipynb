{
 "cells": [
  {
   "cell_type": "code",
   "execution_count": null,
   "metadata": {},
   "outputs": [],
   "source": [
    "from sklearn.svm import SVR\n",
    "from sklearn.preprocessing import MinMaxScaler\n",
    "from sklearn.model_selection import train_test_split\n",
    "from sklearn.model_selection import train_test_split, GridSearchCV\n",
    "\n",
    "import numpy as np\n",
    "\n",
    "# Assuming 'PJME_MW' is the target variable\n",
    "X = data.drop(columns=['Datetime'])  # Assuming 'Datetime' is not needed as a feature\n",
    "y = data['PJME_MW']\n",
    "\n",
    "# Split the dataset into training and testing sets\n",
    "X_train, X_test, y_train, y_test = train_test_split(X, y, test_size=0.2, random_state=42)\n",
    "\n",
    "# Normalize the input features using Min-Max scaling\n",
    "scaler = MinMaxScaler()\n",
    "X_train_scaled = scaler.fit_transform(X_train)\n",
    "X_test_scaled = scaler.transform(X_test)\n",
    "\n",
    "# Initialize and train the SVR model\n",
    "# Define the SVR model\n",
    "svr = SVR()\n",
    "\n",
    "# Define the parameter grid for grid search\n",
    "param_grid = {\n",
    "    'kernel': ['linear', 'rbf'],\n",
    "    'C': [1, 10, 100, 1000],    # Regularization parameter\n",
    "    'gamma': [0.1, 0.01, 0.001]  # Kernel coefficient\n",
    "}\n",
    "\n",
    "# Perform grid search cross-validation\n",
    "grid = GridSearchCV(estimator=svr, param_grid=param_grid, scoring='neg_mean_squared_error', cv=3)\n",
    "grid.fit(X_train_scaled, y_train)\n",
    "\n",
    "# Print results\n",
    "print(\"Best Parameters:\", grid.best_params_)\n",
    "print(\"Best Score (MSE):\", -grid.best_score_)\n",
    "\n",
    "# Generate predictions for the next 1 month (30 days)\n",
    "# Get the best SVR model from grid search\n",
    "best_svr = grid.best_estimator_\n",
    "\n",
    "# Make predictions on the test set\n",
    "y_pred = best_svr.predict(X_test_scaled)\n",
    "\n",
    "# Calculate RMSE on the test set\n",
    "test_rmse = np.sqrt(mean_squared_error(y_test, y_pred))\n",
    "print(\"Test RMSE:\", test_rmse)\n"
   ]
  }
 ],
 "metadata": {
  "language_info": {
   "name": "python"
  }
 },
 "nbformat": 4,
 "nbformat_minor": 2
}
