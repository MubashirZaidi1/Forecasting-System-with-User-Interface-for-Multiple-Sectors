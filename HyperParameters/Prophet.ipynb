{
 "cells": [
  {
   "cell_type": "code",
   "execution_count": 4,
   "metadata": {},
   "outputs": [
    {
     "name": "stdout",
     "output_type": "stream",
     "text": [
      "                Datetime   AEP_MW\n",
      "2183 2004-10-01 01:00:00  12379.0\n",
      "2184 2004-10-01 02:00:00  11935.0\n",
      "2185 2004-10-01 03:00:00  11692.0\n",
      "2186 2004-10-01 04:00:00  11597.0\n",
      "2187 2004-10-01 05:00:00  11681.0\n"
     ]
    }
   ],
   "source": [
    "import pandas as pd\n",
    "import warnings\n",
    "\n",
    "import numpy as np\n",
    "warnings.filterwarnings(\"ignore\", category=UserWarning)\n",
    "\n",
    "# Load the dfset\n",
    "df = pd.read_csv('AEP_hourly.csv')\n",
    "\n",
    "# Convert 'Datetime' column to datetime format\n",
    "df['Datetime'] = pd.to_datetime(df['Datetime'])\n",
    "# Sort the dfframe by datetime (if needed)\n",
    "df = df.sort_values('Datetime')\n",
    "\n",
    "# Display the first few rows of the dfset\n",
    "print(df.head())\n",
    "data = df.copy()\n"
   ]
  },
  {
   "cell_type": "code",
   "execution_count": 6,
   "metadata": {},
   "outputs": [
    {
     "name": "stderr",
     "output_type": "stream",
     "text": [
      "20:48:31 - cmdstanpy - INFO - Chain [1] start processing\n",
      "20:49:46 - cmdstanpy - INFO - Chain [1] done processing\n"
     ]
    },
    {
     "name": "stdout",
     "output_type": "stream",
     "text": [
      "Root Mean Squared Error (RMSE): 2071.116224341403\n"
     ]
    }
   ],
   "source": [
    "from prophet import Prophet\n",
    "import pandas as pd\n",
    "from sklearn.metrics import mean_squared_error\n",
    "import numpy as np\n",
    "\n",
    "# Assuming 'data' is your DataFrame containing datetime ('Datetime') and target ('AEP_MW') columns\n",
    "# Rename columns as required by Prophet ('ds' for datetime, 'y' for target variable)\n",
    "data_2 = data.rename(columns={'Datetime': 'ds', 'AEP_MW': 'y'})\n",
    "\n",
    "# Initialize Prophet model with potentially yearly, weekly, and daily seasonality\n",
    "prophet_model = Prophet(\n",
    "    yearly_seasonality=True,\n",
    "    weekly_seasonality=True,\n",
    "    daily_seasonality=True,\n",
    "    seasonality_mode='additive'\n",
    ")\n",
    "\n",
    "# Fit the model\n",
    "prophet_model.fit(data_2)\n",
    "\n",
    "# Forecast future values (next 1 month)\n",
    "future = prophet_model.make_future_dataframe(periods=30 * 24, freq='H')  # Forecasting 30 days (1 month) ahead\n",
    "\n",
    "# Predict values\n",
    "forecast = prophet_model.predict(future)\n",
    "\n",
    "# Filter forecast for the next 1 month (last 30 days)\n",
    "forecast_next_1_month = forecast.tail(30 * 24)  # Extracting last 30 days of forecast (1 month)\n",
    "\n",
    "# Extract forecasted values (yhat) and actual values (y) for RMSE calculation\n",
    "forecast_values = forecast_next_1_month['yhat'].values\n",
    "actual_values = data_2['y'].values[-len(forecast_values):]\n",
    "\n",
    "# Calculate RMSE\n",
    "rmse = np.sqrt(mean_squared_error(actual_values, forecast_values))\n",
    "print(f\"Root Mean Squared Error (RMSE): {rmse}\")\n",
    "\n"
   ]
  }
 ],
 "metadata": {
  "kernelspec": {
   "display_name": "Python 3",
   "language": "python",
   "name": "python3"
  },
  "language_info": {
   "codemirror_mode": {
    "name": "ipython",
    "version": 3
   },
   "file_extension": ".py",
   "mimetype": "text/x-python",
   "name": "python",
   "nbconvert_exporter": "python",
   "pygments_lexer": "ipython3",
   "version": "3.11.9"
  }
 },
 "nbformat": 4,
 "nbformat_minor": 2
}
